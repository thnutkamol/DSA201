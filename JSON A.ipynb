{
 "cells": [
  {
   "cell_type": "code",
   "execution_count": null,
   "metadata": {},
   "outputs": [],
   "source": [
    "import json"
   ]
  },
  {
   "cell_type": "code",
   "execution_count": 2,
   "metadata": {},
   "outputs": [],
   "source": [
    "import requests"
   ]
  },
  {
   "cell_type": "code",
   "execution_count": 3,
   "metadata": {},
   "outputs": [],
   "source": [
    "import pandas as pd"
   ]
  },
  {
   "cell_type": "code",
   "execution_count": 4,
   "metadata": {},
   "outputs": [],
   "source": [
    "import numpy as np"
   ]
  },
  {
   "cell_type": "code",
   "execution_count": 5,
   "metadata": {},
   "outputs": [],
   "source": [
    "import matplotlib.pyplot as plt"
   ]
  },
  {
   "cell_type": "code",
   "execution_count": 6,
   "metadata": {},
   "outputs": [],
   "source": [
    "#get URL\n",
    "r = requests.get(\"https://covid19.th-stat.com/api/open/cases\")"
   ]
  },
  {
   "cell_type": "code",
   "execution_count": 7,
   "metadata": {},
   "outputs": [],
   "source": [
    "data = r.json()"
   ]
  },
  {
   "cell_type": "code",
   "execution_count": 8,
   "metadata": {},
   "outputs": [
    {
     "data": {
      "text/plain": [
       "dict_keys(['Data', 'LastData', 'UpdateDate', 'Source', 'DevBy', 'SeverBy'])"
      ]
     },
     "execution_count": 8,
     "metadata": {},
     "output_type": "execute_result"
    }
   ],
   "source": [
    "data.keys()"
   ]
  },
  {
   "cell_type": "code",
   "execution_count": 9,
   "metadata": {},
   "outputs": [
    {
     "data": {
      "text/plain": [
       "{'ConfirmDate': '2020-09-01 00:00:00',\n",
       " 'No': '3417',\n",
       " 'Age': 15,\n",
       " 'Gender': 'หญิง',\n",
       " 'GenderEn': 'Female',\n",
       " 'Nation': 'France',\n",
       " 'NationEn': None,\n",
       " 'Province': 'กรุงเทพมหานคร',\n",
       " 'ProvinceId': 1,\n",
       " 'District': 'บางรัก',\n",
       " 'ProvinceEn': 'Bangkok',\n",
       " 'Detail': None,\n",
       " 'StatQuarantine': 0}"
      ]
     },
     "execution_count": 9,
     "metadata": {},
     "output_type": "execute_result"
    }
   ],
   "source": [
    "data['Data'][0]"
   ]
  },
  {
   "cell_type": "code",
   "execution_count": 10,
   "metadata": {},
   "outputs": [
    {
     "data": {
      "text/html": [
       "<div>\n",
       "<style scoped>\n",
       "    .dataframe tbody tr th:only-of-type {\n",
       "        vertical-align: middle;\n",
       "    }\n",
       "\n",
       "    .dataframe tbody tr th {\n",
       "        vertical-align: top;\n",
       "    }\n",
       "\n",
       "    .dataframe thead th {\n",
       "        text-align: right;\n",
       "    }\n",
       "</style>\n",
       "<table border=\"1\" class=\"dataframe\">\n",
       "  <thead>\n",
       "    <tr style=\"text-align: right;\">\n",
       "      <th></th>\n",
       "      <th>ConfirmDate</th>\n",
       "      <th>No</th>\n",
       "      <th>Age</th>\n",
       "      <th>Gender</th>\n",
       "      <th>GenderEn</th>\n",
       "      <th>Nation</th>\n",
       "      <th>NationEn</th>\n",
       "      <th>Province</th>\n",
       "      <th>ProvinceId</th>\n",
       "      <th>District</th>\n",
       "      <th>ProvinceEn</th>\n",
       "      <th>Detail</th>\n",
       "      <th>StatQuarantine</th>\n",
       "    </tr>\n",
       "  </thead>\n",
       "  <tbody>\n",
       "    <tr>\n",
       "      <th>0</th>\n",
       "      <td>2020-09-01 00:00:00</td>\n",
       "      <td>3417</td>\n",
       "      <td>15.0</td>\n",
       "      <td>หญิง</td>\n",
       "      <td>Female</td>\n",
       "      <td>France</td>\n",
       "      <td>None</td>\n",
       "      <td>กรุงเทพมหานคร</td>\n",
       "      <td>1</td>\n",
       "      <td>บางรัก</td>\n",
       "      <td>Bangkok</td>\n",
       "      <td>None</td>\n",
       "      <td>0</td>\n",
       "    </tr>\n",
       "    <tr>\n",
       "      <th>1</th>\n",
       "      <td>2020-09-01 00:00:00</td>\n",
       "      <td>3416</td>\n",
       "      <td>3.0</td>\n",
       "      <td>ชาย</td>\n",
       "      <td>Male</td>\n",
       "      <td>France</td>\n",
       "      <td>None</td>\n",
       "      <td>กรุงเทพมหานคร</td>\n",
       "      <td>1</td>\n",
       "      <td>บางรัก</td>\n",
       "      <td>Bangkok</td>\n",
       "      <td>None</td>\n",
       "      <td>0</td>\n",
       "    </tr>\n",
       "    <tr>\n",
       "      <th>2</th>\n",
       "      <td>2020-09-01 00:00:00</td>\n",
       "      <td>3415</td>\n",
       "      <td>37.0</td>\n",
       "      <td>หญิง</td>\n",
       "      <td>Female</td>\n",
       "      <td>Philippines</td>\n",
       "      <td>None</td>\n",
       "      <td>กรุงเทพมหานคร</td>\n",
       "      <td>1</td>\n",
       "      <td>พระนคร</td>\n",
       "      <td>Bangkok</td>\n",
       "      <td>None</td>\n",
       "      <td>0</td>\n",
       "    </tr>\n",
       "    <tr>\n",
       "      <th>3</th>\n",
       "      <td>2020-09-01 00:00:00</td>\n",
       "      <td>3414</td>\n",
       "      <td>28.0</td>\n",
       "      <td>หญิง</td>\n",
       "      <td>Female</td>\n",
       "      <td>Philippines</td>\n",
       "      <td>None</td>\n",
       "      <td>กรุงเทพมหานคร</td>\n",
       "      <td>1</td>\n",
       "      <td>พระนคร</td>\n",
       "      <td>Bangkok</td>\n",
       "      <td>None</td>\n",
       "      <td>0</td>\n",
       "    </tr>\n",
       "    <tr>\n",
       "      <th>4</th>\n",
       "      <td>2020-09-01 00:00:00</td>\n",
       "      <td>3413</td>\n",
       "      <td>26.0</td>\n",
       "      <td>หญิง</td>\n",
       "      <td>Female</td>\n",
       "      <td>Philippines</td>\n",
       "      <td>None</td>\n",
       "      <td>กรุงเทพมหานคร</td>\n",
       "      <td>1</td>\n",
       "      <td>พระนคร</td>\n",
       "      <td>Bangkok</td>\n",
       "      <td>None</td>\n",
       "      <td>0</td>\n",
       "    </tr>\n",
       "  </tbody>\n",
       "</table>\n",
       "</div>"
      ],
      "text/plain": [
       "           ConfirmDate    No   Age Gender GenderEn       Nation NationEn  \\\n",
       "0  2020-09-01 00:00:00  3417  15.0   หญิง   Female       France     None   \n",
       "1  2020-09-01 00:00:00  3416   3.0    ชาย     Male       France     None   \n",
       "2  2020-09-01 00:00:00  3415  37.0   หญิง   Female  Philippines     None   \n",
       "3  2020-09-01 00:00:00  3414  28.0   หญิง   Female  Philippines     None   \n",
       "4  2020-09-01 00:00:00  3413  26.0   หญิง   Female  Philippines     None   \n",
       "\n",
       "        Province  ProvinceId District ProvinceEn Detail  StatQuarantine  \n",
       "0  กรุงเทพมหานคร           1   บางรัก    Bangkok   None               0  \n",
       "1  กรุงเทพมหานคร           1   บางรัก    Bangkok   None               0  \n",
       "2  กรุงเทพมหานคร           1   พระนคร    Bangkok   None               0  \n",
       "3  กรุงเทพมหานคร           1   พระนคร    Bangkok   None               0  \n",
       "4  กรุงเทพมหานคร           1   พระนคร    Bangkok   None               0  "
      ]
     },
     "execution_count": 10,
     "metadata": {},
     "output_type": "execute_result"
    }
   ],
   "source": [
    "#conver json to DF\n",
    "df = pd.DataFrame(data['Data'])\n",
    "df.head()"
   ]
  },
  {
   "cell_type": "code",
   "execution_count": 11,
   "metadata": {},
   "outputs": [
    {
     "data": {
      "text/plain": [
       "ConfirmDate        object\n",
       "No                 object\n",
       "Age               float64\n",
       "Gender             object\n",
       "GenderEn           object\n",
       "Nation             object\n",
       "NationEn           object\n",
       "Province           object\n",
       "ProvinceId          int64\n",
       "District           object\n",
       "ProvinceEn         object\n",
       "Detail             object\n",
       "StatQuarantine      int64\n",
       "dtype: object"
      ]
     },
     "execution_count": 11,
     "metadata": {},
     "output_type": "execute_result"
    }
   ],
   "source": [
    "#check data type\n",
    "df.dtypes"
   ]
  },
  {
   "cell_type": "code",
   "execution_count": 12,
   "metadata": {},
   "outputs": [
    {
     "data": {
      "text/plain": [
       "(3418, 13)"
      ]
     },
     "execution_count": 12,
     "metadata": {},
     "output_type": "execute_result"
    }
   ],
   "source": [
    "#check shape\n",
    "df.shape"
   ]
  },
  {
   "cell_type": "code",
   "execution_count": 13,
   "metadata": {},
   "outputs": [
    {
     "data": {
      "text/plain": [
       "ConfirmDate          0\n",
       "No                   1\n",
       "Age                  0\n",
       "Gender               0\n",
       "GenderEn             0\n",
       "Nation               0\n",
       "NationEn          3342\n",
       "Province             0\n",
       "ProvinceId           0\n",
       "District             0\n",
       "ProvinceEn           0\n",
       "Detail            3418\n",
       "StatQuarantine       0\n",
       "dtype: int64"
      ]
     },
     "execution_count": 13,
     "metadata": {},
     "output_type": "execute_result"
    }
   ],
   "source": [
    "#Check missing value\n",
    "df.isnull().sum()"
   ]
  },
  {
   "cell_type": "code",
   "execution_count": 14,
   "metadata": {},
   "outputs": [
    {
     "data": {
      "text/html": [
       "<div>\n",
       "<style scoped>\n",
       "    .dataframe tbody tr th:only-of-type {\n",
       "        vertical-align: middle;\n",
       "    }\n",
       "\n",
       "    .dataframe tbody tr th {\n",
       "        vertical-align: top;\n",
       "    }\n",
       "\n",
       "    .dataframe thead th {\n",
       "        text-align: right;\n",
       "    }\n",
       "</style>\n",
       "<table border=\"1\" class=\"dataframe\">\n",
       "  <thead>\n",
       "    <tr style=\"text-align: right;\">\n",
       "      <th></th>\n",
       "      <th>ConfirmDate</th>\n",
       "      <th>No</th>\n",
       "      <th>Age</th>\n",
       "      <th>Gender</th>\n",
       "      <th>GenderEn</th>\n",
       "      <th>Nation</th>\n",
       "      <th>NationEn</th>\n",
       "      <th>Province</th>\n",
       "      <th>ProvinceId</th>\n",
       "      <th>District</th>\n",
       "      <th>ProvinceEn</th>\n",
       "      <th>Detail</th>\n",
       "      <th>StatQuarantine</th>\n",
       "    </tr>\n",
       "  </thead>\n",
       "  <tbody>\n",
       "    <tr>\n",
       "      <th>451</th>\n",
       "      <td>2020-04-04 00:00:00</td>\n",
       "      <td>None</td>\n",
       "      <td>51.0</td>\n",
       "      <td>ชาย</td>\n",
       "      <td>Male</td>\n",
       "      <td>สหราชอาณาจักร</td>\n",
       "      <td>British</td>\n",
       "      <td>กรุงเทพมหานคร</td>\n",
       "      <td>1</td>\n",
       "      <td></td>\n",
       "      <td>Bangkok</td>\n",
       "      <td>None</td>\n",
       "      <td>0</td>\n",
       "    </tr>\n",
       "  </tbody>\n",
       "</table>\n",
       "</div>"
      ],
      "text/plain": [
       "             ConfirmDate    No   Age Gender GenderEn         Nation NationEn  \\\n",
       "451  2020-04-04 00:00:00  None  51.0    ชาย     Male  สหราชอาณาจักร  British   \n",
       "\n",
       "          Province  ProvinceId District ProvinceEn Detail  StatQuarantine  \n",
       "451  กรุงเทพมหานคร           1             Bangkok   None               0  "
      ]
     },
     "execution_count": 14,
     "metadata": {},
     "output_type": "execute_result"
    }
   ],
   "source": [
    "#Row to drop\n",
    "df[df.No.isnull()]"
   ]
  },
  {
   "cell_type": "code",
   "execution_count": 15,
   "metadata": {},
   "outputs": [],
   "source": [
    "#Drop row\n",
    "df.dropna(subset=['No'],inplace=True)"
   ]
  },
  {
   "cell_type": "code",
   "execution_count": 16,
   "metadata": {},
   "outputs": [
    {
     "name": "stdout",
     "output_type": "stream",
     "text": [
      "0       2020-09-01\n",
      "1       2020-09-01\n",
      "2       2020-09-01\n",
      "3       2020-09-01\n",
      "4       2020-09-01\n",
      "           ...    \n",
      "3413    2020-01-24\n",
      "3414    2020-01-22\n",
      "3415    2020-01-22\n",
      "3416    2020-01-17\n",
      "3417    2020-01-12\n",
      "Name: ConfirmDate, Length: 3417, dtype: object\n"
     ]
    }
   ],
   "source": [
    "df['ConfirmDate'] = df['ConfirmDate'].str.split(expand=True)\n",
    "df\n",
    "print(df.ConfirmDate)"
   ]
  },
  {
   "cell_type": "code",
   "execution_count": 17,
   "metadata": {},
   "outputs": [],
   "source": [
    "#Replace values Thai(unkown) with 'Unknown'\n",
    "df['Nation'].replace('ไม่ทราบ', 'Unknown', inplace=True)\n",
    "df['NationEn'].replace('Unknown', np.NaN, inplace=True)"
   ]
  },
  {
   "cell_type": "code",
   "execution_count": 18,
   "metadata": {},
   "outputs": [
    {
     "data": {
      "text/plain": [
       "ConfirmDate          0\n",
       "No                   0\n",
       "Age                  0\n",
       "Gender               0\n",
       "GenderEn             0\n",
       "Nation               0\n",
       "NationEn          3351\n",
       "Province             0\n",
       "ProvinceId           0\n",
       "District             0\n",
       "ProvinceEn           0\n",
       "Detail            3417\n",
       "StatQuarantine       0\n",
       "dtype: int64"
      ]
     },
     "execution_count": 18,
     "metadata": {},
     "output_type": "execute_result"
    }
   ],
   "source": [
    "df.isnull().sum()"
   ]
  },
  {
   "cell_type": "code",
   "execution_count": 19,
   "metadata": {},
   "outputs": [
    {
     "data": {
      "text/plain": [
       "array(['France', 'Philippines', 'UnitedKingdom', 'Thailand',\n",
       "       'UnitedStatesofAmerica', 'Ethiopia', 'India', 'Qatar',\n",
       "       'Bangladesh', 'Russia', 'Serbia', 'Finland', 'Egypt', 'Sudan',\n",
       "       'China', 'Italy', 'Germany', 'Burma', 'ต่างด้าว', 'Vietnam',\n",
       "       'Malaysia', 'Yemen', 'Cambodia', 'Mali', 'Unknown', 'Laos',\n",
       "       'Australia', 'Palestine', 'Singapore', 'Kazakhstan', 'Israel',\n",
       "       'Brazil', 'Japan', 'Albania', 'Netherlands', 'Sweden', 'Mexico',\n",
       "       'Tunisia', 'Belgium', 'Kuwait', 'Liberia', 'Hungary',\n",
       "       'Switzerland', 'Pakistan', 'Canada', 'Korea,South', 'Taiwan',\n",
       "       'Indonesia', 'India-Thailand', 'spain', 'Uzbekistan', 'Portugal',\n",
       "       'Ukraine', 'Denmark', 'NewZealand', 'Iran'], dtype=object)"
      ]
     },
     "execution_count": 19,
     "metadata": {},
     "output_type": "execute_result"
    }
   ],
   "source": [
    "df.Nation.unique()"
   ]
  },
  {
   "cell_type": "code",
   "execution_count": 20,
   "metadata": {},
   "outputs": [
    {
     "data": {
      "text/plain": [
       "array(['France', 'Philippines', 'UnitedKingdom', 'Thailand',\n",
       "       'UnitedStatesofAmerica', 'Ethiopia', 'India', 'Qatar',\n",
       "       'Bangladesh', 'Russia', 'Serbia', 'Finland', 'Egypt', 'Sudan',\n",
       "       'China', 'Italy', 'Germany', 'Burma', 'Foreigner', 'Vietnam',\n",
       "       'Malaysia', 'Yemen', 'Cambodia', 'Mali', 'Unknown', 'Laos',\n",
       "       'Australia', 'Palestine', 'Singapore', 'Kazakhstan', 'Israel',\n",
       "       'Brazil', 'Japan', 'Albania', 'Netherlands', 'Sweden', 'Mexico',\n",
       "       'Tunisia', 'Belgium', 'Kuwait', 'Liberia', 'Hungary',\n",
       "       'Switzerland', 'Pakistan', 'Canada', 'Korea,South', 'Taiwan',\n",
       "       'Indonesia', 'India-Thailand', 'spain', 'Uzbekistan', 'Portugal',\n",
       "       'Ukraine', 'Denmark', 'NewZealand', 'Iran'], dtype=object)"
      ]
     },
     "execution_count": 20,
     "metadata": {},
     "output_type": "execute_result"
    }
   ],
   "source": [
    "df['Nation'].replace('ต่างด้าว','Foreigner', inplace=True)\n",
    "df.Nation.unique()"
   ]
  },
  {
   "cell_type": "code",
   "execution_count": 21,
   "metadata": {},
   "outputs": [],
   "source": [
    "#Columns to drop (NationEn, Detail)\n",
    "df = df.drop(['NationEn', 'District', 'Detail'], axis=1)"
   ]
  },
  {
   "cell_type": "code",
   "execution_count": 22,
   "metadata": {},
   "outputs": [
    {
     "data": {
      "text/plain": [
       "count    3417.000000\n",
       "mean       38.114516\n",
       "std        15.504880\n",
       "min         0.000000\n",
       "25%        26.000000\n",
       "50%        36.000000\n",
       "75%        48.000000\n",
       "max        97.000000\n",
       "Name: Age, dtype: float64"
      ]
     },
     "execution_count": 22,
     "metadata": {},
     "output_type": "execute_result"
    }
   ],
   "source": [
    "AgeStat = df['Age'].describe()\n",
    "AgeStat"
   ]
  },
  {
   "cell_type": "code",
   "execution_count": 23,
   "metadata": {},
   "outputs": [
    {
     "data": {
      "text/html": [
       "<div>\n",
       "<style scoped>\n",
       "    .dataframe tbody tr th:only-of-type {\n",
       "        vertical-align: middle;\n",
       "    }\n",
       "\n",
       "    .dataframe tbody tr th {\n",
       "        vertical-align: top;\n",
       "    }\n",
       "\n",
       "    .dataframe thead th {\n",
       "        text-align: right;\n",
       "    }\n",
       "</style>\n",
       "<table border=\"1\" class=\"dataframe\">\n",
       "  <thead>\n",
       "    <tr style=\"text-align: right;\">\n",
       "      <th></th>\n",
       "      <th>ConfirmDate</th>\n",
       "      <th>No</th>\n",
       "      <th>Age</th>\n",
       "      <th>Gender</th>\n",
       "      <th>GenderEn</th>\n",
       "      <th>Nation</th>\n",
       "      <th>Province</th>\n",
       "      <th>ProvinceId</th>\n",
       "      <th>ProvinceEn</th>\n",
       "      <th>StatQuarantine</th>\n",
       "    </tr>\n",
       "  </thead>\n",
       "  <tbody>\n",
       "    <tr>\n",
       "      <th>417</th>\n",
       "      <td>2020-05-08</td>\n",
       "      <td>3000</td>\n",
       "      <td>0.0</td>\n",
       "      <td>หญิง</td>\n",
       "      <td>Female</td>\n",
       "      <td>Burma</td>\n",
       "      <td>สงขลา</td>\n",
       "      <td>58</td>\n",
       "      <td>Songkhla</td>\n",
       "      <td>1</td>\n",
       "    </tr>\n",
       "    <tr>\n",
       "      <th>542</th>\n",
       "      <td>2020-04-25</td>\n",
       "      <td>2876</td>\n",
       "      <td>0.0</td>\n",
       "      <td>หญิง</td>\n",
       "      <td>Female</td>\n",
       "      <td>Burma</td>\n",
       "      <td>สงขลา</td>\n",
       "      <td>58</td>\n",
       "      <td>Songkhla</td>\n",
       "      <td>1</td>\n",
       "    </tr>\n",
       "    <tr>\n",
       "      <th>852</th>\n",
       "      <td>2020-04-13</td>\n",
       "      <td>2567</td>\n",
       "      <td>0.0</td>\n",
       "      <td>ชาย</td>\n",
       "      <td>Male</td>\n",
       "      <td>Thailand</td>\n",
       "      <td>กรุงเทพมหานคร</td>\n",
       "      <td>1</td>\n",
       "      <td>Bangkok</td>\n",
       "      <td>0</td>\n",
       "    </tr>\n",
       "    <tr>\n",
       "      <th>853</th>\n",
       "      <td>2020-04-13</td>\n",
       "      <td>2566</td>\n",
       "      <td>0.0</td>\n",
       "      <td>หญิง</td>\n",
       "      <td>Female</td>\n",
       "      <td>Thailand</td>\n",
       "      <td>กรุงเทพมหานคร</td>\n",
       "      <td>1</td>\n",
       "      <td>Bangkok</td>\n",
       "      <td>0</td>\n",
       "    </tr>\n",
       "    <tr>\n",
       "      <th>854</th>\n",
       "      <td>2020-04-13</td>\n",
       "      <td>2565</td>\n",
       "      <td>0.0</td>\n",
       "      <td>หญิง</td>\n",
       "      <td>Female</td>\n",
       "      <td>Thailand</td>\n",
       "      <td>กรุงเทพมหานคร</td>\n",
       "      <td>1</td>\n",
       "      <td>Bangkok</td>\n",
       "      <td>0</td>\n",
       "    </tr>\n",
       "    <tr>\n",
       "      <th>978</th>\n",
       "      <td>2020-04-10</td>\n",
       "      <td>2439</td>\n",
       "      <td>0.0</td>\n",
       "      <td>หญิง</td>\n",
       "      <td>Female</td>\n",
       "      <td>Thailand</td>\n",
       "      <td>กรุงเทพมหานคร</td>\n",
       "      <td>1</td>\n",
       "      <td>Bangkok</td>\n",
       "      <td>0</td>\n",
       "    </tr>\n",
       "    <tr>\n",
       "      <th>1318</th>\n",
       "      <td>2020-04-05</td>\n",
       "      <td>2084</td>\n",
       "      <td>0.0</td>\n",
       "      <td>ชาย</td>\n",
       "      <td>Male</td>\n",
       "      <td>Thailand</td>\n",
       "      <td>สมุทรปราการ</td>\n",
       "      <td>60</td>\n",
       "      <td>Samut Prakan</td>\n",
       "      <td>0</td>\n",
       "    </tr>\n",
       "    <tr>\n",
       "      <th>1319</th>\n",
       "      <td>2020-04-05</td>\n",
       "      <td>2083</td>\n",
       "      <td>0.0</td>\n",
       "      <td>หญิง</td>\n",
       "      <td>Female</td>\n",
       "      <td>Thailand</td>\n",
       "      <td>สมุทรปราการ</td>\n",
       "      <td>60</td>\n",
       "      <td>Samut Prakan</td>\n",
       "      <td>0</td>\n",
       "    </tr>\n",
       "    <tr>\n",
       "      <th>1321</th>\n",
       "      <td>2020-04-05</td>\n",
       "      <td>2081</td>\n",
       "      <td>0.0</td>\n",
       "      <td>ชาย</td>\n",
       "      <td>Male</td>\n",
       "      <td>Thailand</td>\n",
       "      <td>สมุทรปราการ</td>\n",
       "      <td>60</td>\n",
       "      <td>Samut Prakan</td>\n",
       "      <td>0</td>\n",
       "    </tr>\n",
       "    <tr>\n",
       "      <th>1624</th>\n",
       "      <td>2020-04-01</td>\n",
       "      <td>1769</td>\n",
       "      <td>0.0</td>\n",
       "      <td>หญิง</td>\n",
       "      <td>Female</td>\n",
       "      <td>Thailand</td>\n",
       "      <td>สมุทรสาคร</td>\n",
       "      <td>62</td>\n",
       "      <td>Samut Sakhon</td>\n",
       "      <td>0</td>\n",
       "    </tr>\n",
       "    <tr>\n",
       "      <th>1625</th>\n",
       "      <td>2020-04-01</td>\n",
       "      <td>1768</td>\n",
       "      <td>0.0</td>\n",
       "      <td>หญิง</td>\n",
       "      <td>Female</td>\n",
       "      <td>Thailand</td>\n",
       "      <td>กรุงเทพมหานคร</td>\n",
       "      <td>1</td>\n",
       "      <td>Bangkok</td>\n",
       "      <td>0</td>\n",
       "    </tr>\n",
       "    <tr>\n",
       "      <th>2079</th>\n",
       "      <td>2020-03-29</td>\n",
       "      <td>1338</td>\n",
       "      <td>0.0</td>\n",
       "      <td>ชาย</td>\n",
       "      <td>Male</td>\n",
       "      <td>Indonesia</td>\n",
       "      <td>กรุงเทพมหานคร</td>\n",
       "      <td>1</td>\n",
       "      <td>Bangkok</td>\n",
       "      <td>0</td>\n",
       "    </tr>\n",
       "    <tr>\n",
       "      <th>2175</th>\n",
       "      <td>2020-03-28</td>\n",
       "      <td>1240</td>\n",
       "      <td>0.0</td>\n",
       "      <td>หญิง</td>\n",
       "      <td>Female</td>\n",
       "      <td>Unknown</td>\n",
       "      <td>กรุงเทพมหานคร</td>\n",
       "      <td>1</td>\n",
       "      <td>Bangkok</td>\n",
       "      <td>0</td>\n",
       "    </tr>\n",
       "    <tr>\n",
       "      <th>2265</th>\n",
       "      <td>2020-03-28</td>\n",
       "      <td>1152</td>\n",
       "      <td>0.0</td>\n",
       "      <td>หญิง</td>\n",
       "      <td>Female</td>\n",
       "      <td>Thailand</td>\n",
       "      <td>กรุงเทพมหานคร</td>\n",
       "      <td>1</td>\n",
       "      <td>Bangkok</td>\n",
       "      <td>0</td>\n",
       "    </tr>\n",
       "    <tr>\n",
       "      <th>2604</th>\n",
       "      <td>2020-03-24</td>\n",
       "      <td>814</td>\n",
       "      <td>0.0</td>\n",
       "      <td>ชาย</td>\n",
       "      <td>Male</td>\n",
       "      <td>Thailand</td>\n",
       "      <td>กรุงเทพมหานคร</td>\n",
       "      <td>1</td>\n",
       "      <td>Bangkok</td>\n",
       "      <td>0</td>\n",
       "    </tr>\n",
       "    <tr>\n",
       "      <th>2829</th>\n",
       "      <td>2020-03-22</td>\n",
       "      <td>589</td>\n",
       "      <td>0.0</td>\n",
       "      <td>ชาย</td>\n",
       "      <td>Male</td>\n",
       "      <td>Thailand</td>\n",
       "      <td>กรุงเทพมหานคร</td>\n",
       "      <td>1</td>\n",
       "      <td>Bangkok</td>\n",
       "      <td>0</td>\n",
       "    </tr>\n",
       "    <tr>\n",
       "      <th>2908</th>\n",
       "      <td>2020-03-22</td>\n",
       "      <td>504</td>\n",
       "      <td>0.0</td>\n",
       "      <td>ชาย</td>\n",
       "      <td>Male</td>\n",
       "      <td>Thailand</td>\n",
       "      <td>กรุงเทพมหานคร</td>\n",
       "      <td>1</td>\n",
       "      <td>Bangkok</td>\n",
       "      <td>0</td>\n",
       "    </tr>\n",
       "    <tr>\n",
       "      <th>2929</th>\n",
       "      <td>2020-03-22</td>\n",
       "      <td>484</td>\n",
       "      <td>0.0</td>\n",
       "      <td>ชาย</td>\n",
       "      <td>Male</td>\n",
       "      <td>Thailand</td>\n",
       "      <td>กรุงเทพมหานคร</td>\n",
       "      <td>1</td>\n",
       "      <td>Bangkok</td>\n",
       "      <td>0</td>\n",
       "    </tr>\n",
       "    <tr>\n",
       "      <th>3154</th>\n",
       "      <td>2020-03-22</td>\n",
       "      <td>577</td>\n",
       "      <td>0.0</td>\n",
       "      <td>ชาย</td>\n",
       "      <td>Male</td>\n",
       "      <td>Thailand</td>\n",
       "      <td>กรุงเทพมหานคร</td>\n",
       "      <td>1</td>\n",
       "      <td>Bangkok</td>\n",
       "      <td>0</td>\n",
       "    </tr>\n",
       "  </tbody>\n",
       "</table>\n",
       "</div>"
      ],
      "text/plain": [
       "     ConfirmDate    No  Age Gender GenderEn     Nation       Province  \\\n",
       "417   2020-05-08  3000  0.0   หญิง   Female      Burma          สงขลา   \n",
       "542   2020-04-25  2876  0.0   หญิง   Female      Burma          สงขลา   \n",
       "852   2020-04-13  2567  0.0    ชาย     Male   Thailand  กรุงเทพมหานคร   \n",
       "853   2020-04-13  2566  0.0   หญิง   Female   Thailand  กรุงเทพมหานคร   \n",
       "854   2020-04-13  2565  0.0   หญิง   Female   Thailand  กรุงเทพมหานคร   \n",
       "978   2020-04-10  2439  0.0   หญิง   Female   Thailand  กรุงเทพมหานคร   \n",
       "1318  2020-04-05  2084  0.0    ชาย     Male   Thailand    สมุทรปราการ   \n",
       "1319  2020-04-05  2083  0.0   หญิง   Female   Thailand    สมุทรปราการ   \n",
       "1321  2020-04-05  2081  0.0    ชาย     Male   Thailand    สมุทรปราการ   \n",
       "1624  2020-04-01  1769  0.0   หญิง   Female   Thailand      สมุทรสาคร   \n",
       "1625  2020-04-01  1768  0.0   หญิง   Female   Thailand  กรุงเทพมหานคร   \n",
       "2079  2020-03-29  1338  0.0    ชาย     Male  Indonesia  กรุงเทพมหานคร   \n",
       "2175  2020-03-28  1240  0.0   หญิง   Female    Unknown  กรุงเทพมหานคร   \n",
       "2265  2020-03-28  1152  0.0   หญิง   Female   Thailand  กรุงเทพมหานคร   \n",
       "2604  2020-03-24   814  0.0    ชาย     Male   Thailand  กรุงเทพมหานคร   \n",
       "2829  2020-03-22   589  0.0    ชาย     Male   Thailand  กรุงเทพมหานคร   \n",
       "2908  2020-03-22   504  0.0    ชาย     Male   Thailand  กรุงเทพมหานคร   \n",
       "2929  2020-03-22   484  0.0    ชาย     Male   Thailand  กรุงเทพมหานคร   \n",
       "3154  2020-03-22   577  0.0    ชาย     Male   Thailand  กรุงเทพมหานคร   \n",
       "\n",
       "      ProvinceId    ProvinceEn  StatQuarantine  \n",
       "417           58      Songkhla               1  \n",
       "542           58      Songkhla               1  \n",
       "852            1       Bangkok               0  \n",
       "853            1       Bangkok               0  \n",
       "854            1       Bangkok               0  \n",
       "978            1       Bangkok               0  \n",
       "1318          60  Samut Prakan               0  \n",
       "1319          60  Samut Prakan               0  \n",
       "1321          60  Samut Prakan               0  \n",
       "1624          62  Samut Sakhon               0  \n",
       "1625           1       Bangkok               0  \n",
       "2079           1       Bangkok               0  \n",
       "2175           1       Bangkok               0  \n",
       "2265           1       Bangkok               0  \n",
       "2604           1       Bangkok               0  \n",
       "2829           1       Bangkok               0  \n",
       "2908           1       Bangkok               0  \n",
       "2929           1       Bangkok               0  \n",
       "3154           1       Bangkok               0  "
      ]
     },
     "execution_count": 23,
     "metadata": {},
     "output_type": "execute_result"
    }
   ],
   "source": [
    "df[df['Age'] == 0]"
   ]
  },
  {
   "cell_type": "code",
   "execution_count": 24,
   "metadata": {},
   "outputs": [
    {
     "data": {
      "text/plain": [
       "38.11451565700907"
      ]
     },
     "execution_count": 24,
     "metadata": {},
     "output_type": "execute_result"
    }
   ],
   "source": [
    "Mean_age = df['Age'].mean()\n",
    "Mean_age"
   ]
  },
  {
   "cell_type": "code",
   "execution_count": 35,
   "metadata": {},
   "outputs": [],
   "source": [
    "#Fill age=0 with mean because age cannot be 0\n",
    "\n",
    "df['Age'] = df['Age'].replace(0, Mean_age)\n",
    "df['Age'] = df['Age'].replace(0.0, Mean_age)"
   ]
  },
  {
   "cell_type": "code",
   "execution_count": 36,
   "metadata": {},
   "outputs": [
    {
     "data": {
      "text/plain": [
       "count    3417.000000\n",
       "mean       38.316155\n",
       "std        15.270293\n",
       "min         0.100000\n",
       "25%        27.000000\n",
       "50%        36.000000\n",
       "75%        48.000000\n",
       "max        97.000000\n",
       "Name: Age, dtype: float64"
      ]
     },
     "execution_count": 36,
     "metadata": {},
     "output_type": "execute_result"
    }
   ],
   "source": [
    "df['Age'].describe()"
   ]
  },
  {
   "cell_type": "code",
   "execution_count": 27,
   "metadata": {},
   "outputs": [
    {
     "data": {
      "image/png": "[encoded data removed]",
      "text/plain": [
       "<Figure size 432x288 with 1 Axes>"
      ]
     },
     "metadata": {
      "needs_background": "light"
     },
     "output_type": "display_data"
    }
   ],
   "source": [
    "#!pip install seaborn\n",
    "import seaborn as sb\n",
    "BP = sb.boxplot(x=df['Age'])"
   ]
  },
  {
   "cell_type": "code",
   "execution_count": 28,
   "metadata": {
    "collapsed": true,
    "jupyter": {
     "outputs_hidden": true
    }
   },
   "outputs": [
    {
     "data": {
      "text/html": [
       "<div>\n",
       "<style scoped>\n",
       "    .dataframe tbody tr th:only-of-type {\n",
       "        vertical-align: middle;\n",
       "    }\n",
       "\n",
       "    .dataframe tbody tr th {\n",
       "        vertical-align: top;\n",
       "    }\n",
       "\n",
       "    .dataframe thead th {\n",
       "        text-align: right;\n",
       "    }\n",
       "</style>\n",
       "<table border=\"1\" class=\"dataframe\">\n",
       "  <thead>\n",
       "    <tr style=\"text-align: right;\">\n",
       "      <th></th>\n",
       "      <th>Age</th>\n",
       "      <th>ProvinceId</th>\n",
       "      <th>StatQuarantine</th>\n",
       "    </tr>\n",
       "  </thead>\n",
       "  <tbody>\n",
       "    <tr>\n",
       "      <th>Age</th>\n",
       "      <td>1.000000</td>\n",
       "      <td>-0.005396</td>\n",
       "      <td>-0.121244</td>\n",
       "    </tr>\n",
       "    <tr>\n",
       "      <th>ProvinceId</th>\n",
       "      <td>-0.005396</td>\n",
       "      <td>1.000000</td>\n",
       "      <td>0.113725</td>\n",
       "    </tr>\n",
       "    <tr>\n",
       "      <th>StatQuarantine</th>\n",
       "      <td>-0.121244</td>\n",
       "      <td>0.113725</td>\n",
       "      <td>1.000000</td>\n",
       "    </tr>\n",
       "  </tbody>\n",
       "</table>\n",
       "</div>"
      ],
      "text/plain": [
       "                     Age  ProvinceId  StatQuarantine\n",
       "Age             1.000000   -0.005396       -0.121244\n",
       "ProvinceId     -0.005396    1.000000        0.113725\n",
       "StatQuarantine -0.121244    0.113725        1.000000"
      ]
     },
     "execution_count": 28,
     "metadata": {},
     "output_type": "execute_result"
    }
   ],
   "source": [
    "df.corr()"
   ]
  }
 ],
 "metadata": {
  "kernelspec": {
   "display_name": "Python 3",
   "language": "python",
   "name": "python3"
  },
  "language_info": {
   "codemirror_mode": {
    "name": "ipython",
    "version": 3
   },
   "file_extension": ".py",
   "mimetype": "text/x-python",
   "name": "python",
   "nbconvert_exporter": "python",
   "pygments_lexer": "ipython3",
   "version": "3.7.7"
  }
 },
 "nbformat": 4,
 "nbformat_minor": 4
}
